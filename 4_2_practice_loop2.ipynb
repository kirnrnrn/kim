{
  "nbformat": 4,
  "nbformat_minor": 0,
  "metadata": {
    "kernelspec": {
      "display_name": "Python 3",
      "language": "python",
      "name": "python3"
    },
    "language_info": {
      "codemirror_mode": {
        "name": "ipython",
        "version": 3
      },
      "file_extension": ".py",
      "mimetype": "text/x-python",
      "name": "python",
      "nbconvert_exporter": "python",
      "pygments_lexer": "ipython3",
      "version": "3.6.6"
    },
    "colab": {
      "name": "4.2 practice loop2.ipynb",
      "provenance": [],
      "collapsed_sections": [
        "qgQPG3LBTWMF"
      ],
      "include_colab_link": true
    }
  },
  "cells": [
    {
      "cell_type": "markdown",
      "metadata": {
        "id": "view-in-github",
        "colab_type": "text"
      },
      "source": [
        "<a href=\"https://colab.research.google.com/github/kirnrnrn/kim/blob/main/4_2_practice_loop2.ipynb\" target=\"_parent\"><img src=\"https://colab.research.google.com/assets/colab-badge.svg\" alt=\"Open In Colab\"/></a>"
      ]
    },
    {
      "cell_type": "markdown",
      "metadata": {
        "id": "H7VkQJKyTWL3"
      },
      "source": [
        "# 문제 1.\n",
        "## 1부터 100까지의 정수 중 한 개를 입력받아 100 보다 작은 배수들을 차례로 출력하다가 10 의 배수가 출력되면 프로그램을 종료하도록 프로그램을 작성하시오.\n",
        "- 입력 예: 7\n",
        "- 출력 예: 7 14 21 28 35 42 49 56 63 70"
      ]
    },
    {
      "cell_type": "code",
      "metadata": {
        "id": "8dbvUfGfTWL9",
        "colab": {
          "base_uri": "https://localhost:8080/"
        },
        "outputId": "99494568-c981-47d4-8232-55e7fdfb3e76"
      },
      "source": [
        "i=0\n",
        "a=int(input('정수를 입력하시오'))\n",
        "sum=0\n",
        "for i in range(1,101):\n",
        "  if i%10 == 0:\n",
        "    break\n",
        "  else:\n",
        "    i= a\n",
        "    sum=sum + i\n",
        "    print(sum)\n",
        "  \n"
      ],
      "execution_count": 10,
      "outputs": [
        {
          "output_type": "stream",
          "text": [
            "정수를 입력하시오7\n",
            "7\n",
            "14\n",
            "21\n",
            "28\n",
            "35\n",
            "42\n",
            "49\n",
            "56\n",
            "63\n"
          ],
          "name": "stdout"
        }
      ]
    },
    {
      "cell_type": "code",
      "metadata": {
        "id": "5UpCtHA4TWL-",
        "outputId": "7989443d-d716-42bb-d9a1-5e76a6a53e5e"
      },
      "source": [
        ""
      ],
      "execution_count": null,
      "outputs": [
        {
          "output_type": "stream",
          "text": [
            "입력: 13\n",
            "출력: 13 26 39 52 65 78 91 "
          ],
          "name": "stdout"
        }
      ]
    },
    {
      "cell_type": "code",
      "metadata": {
        "id": "MFeJKxTKTWL_",
        "outputId": "c5664710-5017-4721-88bb-3284506df27c"
      },
      "source": [
        ""
      ],
      "execution_count": null,
      "outputs": [
        {
          "output_type": "stream",
          "text": [
            "입력: 13\n",
            "출력: 13 26 39 52 65 78 91 "
          ],
          "name": "stdout"
        }
      ]
    },
    {
      "cell_type": "code",
      "metadata": {
        "id": "ykwYusIgTWL_"
      },
      "source": [
        ""
      ],
      "execution_count": null,
      "outputs": []
    },
    {
      "cell_type": "markdown",
      "metadata": {
        "id": "ajUXHjJ2TWL_"
      },
      "source": [
        "# 문제 2.\n",
        "## 자연수 n을 입력받아 \"출력 예\"와 같이 공백으로 구분하여 출력하는 프로그램을 작성하시오.\n",
        "- 입력 예: 3"
      ]
    },
    {
      "cell_type": "code",
      "metadata": {
        "id": "ghCXG2bATWMA"
      },
      "source": [
        "    1\n",
        "  1 2\n",
        "1 2 3\n",
        "\n",
        "    1\n",
        "  1 3\n",
        "1 3 5\n",
        "    "
      ],
      "execution_count": null,
      "outputs": []
    },
    {
      "cell_type": "code",
      "metadata": {
        "id": "z-zJFTG3TWMA",
        "outputId": "aa8f3c11-9550-419e-bb32-e8cbaeba8d96"
      },
      "source": [
        "a=input('자연수 n을 입력하시오: ')\n",
        "for i in range(1,a):\n",
        "  "
      ],
      "execution_count": null,
      "outputs": [
        {
          "output_type": "stream",
          "text": [
            "입력: 3\n",
            "    1 \n",
            "  1 2 \n",
            "1 2 3 \n"
          ],
          "name": "stdout"
        }
      ]
    },
    {
      "cell_type": "code",
      "metadata": {
        "id": "vey7_stuTWMA"
      },
      "source": [
        ""
      ],
      "execution_count": null,
      "outputs": []
    },
    {
      "cell_type": "markdown",
      "metadata": {
        "id": "J4UnDb7XTWMB"
      },
      "source": [
        "# 문제 3.\n",
        "## 자연수 n을 입력받아 \"출력 예\"와 같이 공백으로 구분하여 출력되는 프로그램을 작성하시오.\n",
        "- 입력 예 : 3"
      ]
    },
    {
      "cell_type": "code",
      "metadata": {
        "id": "S4lv-jzkTWMB"
      },
      "source": [
        "1 2 3\n",
        "  4 5\n",
        "    6\n",
        "    \n",
        "1 3 5\n",
        "  7 9\n",
        "    11    "
      ],
      "execution_count": null,
      "outputs": []
    },
    {
      "cell_type": "code",
      "metadata": {
        "id": "OlDjVuShTWMB",
        "outputId": "943a9366-74f0-44ee-dc56-0d84c029f3ab"
      },
      "source": [
        ""
      ],
      "execution_count": null,
      "outputs": [
        {
          "output_type": "stream",
          "text": [
            "입력: 3\n",
            "1 2 3 \n",
            "  4 5 \n",
            "    6 \n"
          ],
          "name": "stdout"
        }
      ]
    },
    {
      "cell_type": "code",
      "metadata": {
        "id": "eegwKwlKTWMB"
      },
      "source": [
        ""
      ],
      "execution_count": null,
      "outputs": []
    },
    {
      "cell_type": "code",
      "metadata": {
        "id": "eNX-aemJTWMB"
      },
      "source": [
        ""
      ],
      "execution_count": null,
      "outputs": []
    },
    {
      "cell_type": "markdown",
      "metadata": {
        "id": "L769g7YpTWMC"
      },
      "source": [
        "# 문제 4.\n",
        "## 10개의 정수를 입력받아 100 미만의 수 중 가장 큰 수와 100 이상의 수 중 가장 작은 수를 출력하는 프로그램을 작성하시오.\n",
        "- List 데이터 구조를 활용하시오.\n",
        "- 입력 예: 88 123 659 15 443 1 99 313 105 48\n",
        "- 출력 예: 99 105"
      ]
    },
    {
      "cell_type": "code",
      "metadata": {
        "id": "tzeyHI87TWMC",
        "outputId": "7bfc3e47-4a68-427d-e87f-227359ef723f"
      },
      "source": [
        ""
      ],
      "execution_count": null,
      "outputs": [
        {
          "output_type": "stream",
          "text": [
            "입력: 88 123 659 15 443 1 99 313 105 48\n",
            "[1, 15, 48, 88, 99, 105, 123, 313, 443, 659]\n",
            "100이상의 수중에 가장 작은 수:  105\n",
            "100미만의 수중에 가장 큰 수:  99\n"
          ],
          "name": "stdout"
        }
      ]
    },
    {
      "cell_type": "code",
      "metadata": {
        "id": "-FN0mhPvTWMD",
        "colab": {
          "base_uri": "https://localhost:8080/"
        },
        "outputId": "6768e25e-8552-404d-ab7c-f4c6acddbd6b"
      },
      "source": [
        "list1=[]\n",
        "list2=[]\n",
        "i=0\n",
        "for i in range(10):\n",
        "  i=int(input('정수를 입력하시오'))\n",
        "  if i >= 100:\n",
        "    list1.append(i)\n",
        "  else:\n",
        "    list2.append(i)\n",
        "  \n",
        "print('100미만의 수중에 가장큰수:',max(list2))\n",
        "print('100이상의 수중에 가장 작은 수:',min(list1))"
      ],
      "execution_count": 19,
      "outputs": [
        {
          "output_type": "stream",
          "text": [
            "정수를 입력하시오88\n",
            "정수를 입력하시오123\n",
            "정수를 입력하시오659\n",
            "정수를 입력하시오15\n",
            "정수를 입력하시오443\n",
            "정수를 입력하시오1\n",
            "정수를 입력하시오99\n",
            "정수를 입력하시오313\n",
            "정수를 입력하시오105\n",
            "정수를 입력하시오48\n",
            "100미만의 수중에 가장큰수: 99\n",
            "100이상의 수중에 가장 작은 수: 105\n"
          ],
          "name": "stdout"
        }
      ]
    },
    {
      "cell_type": "code",
      "metadata": {
        "id": "_4FZmGxqTWMD"
      },
      "source": [
        ""
      ],
      "execution_count": null,
      "outputs": []
    },
    {
      "cell_type": "markdown",
      "metadata": {
        "id": "3zJOeTW7TWMD"
      },
      "source": [
        "# 문제 5.\n",
        "## 리스트을 선언한 후 정수를 차례로 입력 받다가 -1이 입력되면 입력을 중단하고, -1을 제외한 마지막 세 개의 정수를 출력하는 프로그램을 작성하시오. \n",
        "- 입력받은 정수가 -1을 제외하고 3개 미만일 경우에는 -1을 제외하고 입력받은 정수를 모두 출력한다.\n",
        "- 입력 예: 30 20 10 60 80 -1\n",
        "- 출력 예: 10 60 80"
      ]
    },
    {
      "cell_type": "code",
      "metadata": {
        "id": "wsmKhqTrTWMD",
        "colab": {
          "base_uri": "https://localhost:8080/"
        },
        "outputId": "37f4d469-79c4-460b-86e5-3d891896e85b"
      },
      "source": [
        "list=[]\n",
        "a=0\n",
        "for a in range(100):\n",
        "  a= int(input('정수를 입력하시오'))\n",
        "  if a<0:\n",
        "    break\n",
        "  if a >= 0:\n",
        "    list.append(a)\n",
        "print(list[-3:-1])\n"
      ],
      "execution_count": 22,
      "outputs": [
        {
          "output_type": "stream",
          "text": [
            "정수를 입력하시오30\n",
            "정수를 입력하시오20\n",
            "정수를 입력하시오10\n",
            "정수를 입력하시오60\n",
            "정수를 입력하시오80\n",
            "정수를 입력하시오-1\n",
            "[]\n"
          ],
          "name": "stdout"
        }
      ]
    },
    {
      "cell_type": "code",
      "metadata": {
        "id": "Ijd1xzzUTWME"
      },
      "source": [
        ""
      ],
      "execution_count": null,
      "outputs": []
    },
    {
      "cell_type": "markdown",
      "metadata": {
        "id": "nkhBLviATWME"
      },
      "source": [
        "# 문제 6. \n",
        "## 사용자에게 base문자열을 첫 줄에 입력받고,  다음으로 찾고자하는 문자 1개를 입력받아 문자열 내의 검색 문자의 모든 위치를 출력하는 프로그램을 작성하시오.\n",
        "- 첫 번째 위치는 0번이며 리스트에 없는 문자가 입력되면 \"none\" 라는 메시지를 출력하고 끝내는 프로그램을 작성하시오.\n",
        "- 예제: \"my name is dean\" 을 base 문자열로 입력하고, 찾고자 하는 문자를 'd'로 입력하면 11을 출력해주면 된다.\n",
        "- 만약, 찾으려는 문자가 2개 이상인 경우에는 모든 위치를 출력해준다."
      ]
    },
    {
      "cell_type": "code",
      "metadata": {
        "id": "ELANBc-zTWME",
        "outputId": "b9079744-7f32-40e0-c75b-7fe4daab1105"
      },
      "source": [
        "list=['m','y',' ','n','a','m','e',' ','i','s',', ,','d','e','a','n']"
      ],
      "execution_count": null,
      "outputs": [
        {
          "output_type": "stream",
          "text": [
            "입력 문자열: my name is dean\n",
            "찾고 싶은 문자: d\n"
          ],
          "name": "stdout"
        }
      ]
    },
    {
      "cell_type": "code",
      "metadata": {
        "id": "wT_CJ7HYTWME",
        "outputId": "55335568-fdba-49ca-c1a4-edeb18d69f12"
      },
      "source": [
        ""
      ],
      "execution_count": null,
      "outputs": [
        {
          "output_type": "stream",
          "text": [
            "입력 문자열: my name is dean\n",
            "찾고 싶은 문자: a\n",
            "[4, 13]\n"
          ],
          "name": "stdout"
        }
      ]
    },
    {
      "cell_type": "code",
      "metadata": {
        "id": "mfXtZ3fxTWME"
      },
      "source": [
        ""
      ],
      "execution_count": null,
      "outputs": []
    },
    {
      "cell_type": "markdown",
      "metadata": {
        "id": "IK0VW7efTWMF"
      },
      "source": [
        "# 문제 7.\n",
        "## 학생들의 점수를 입력을 받다가 0이 입력되면 그 때까지 입력받은 점수를 10점 단위로 구분하여 점수대별 학생 수를 출력하는 프로그램을 작성하시오. \n",
        "- 1명도 없는 점수는 출력하지 않는다.\n",
        "- 입력 예: 63 80 95 100 46 64 88 0"
      ]
    },
    {
      "cell_type": "code",
      "metadata": {
        "id": "s1Uylg0GTWMF"
      },
      "source": [
        "출력 예: \n",
        "100 : 1 person\n",
        "90 : 1 person\n",
        "80 : 2 person\n",
        "60 : 2 person\n",
        "40 : 1 person"
      ],
      "execution_count": null,
      "outputs": []
    },
    {
      "cell_type": "code",
      "metadata": {
        "id": "oexl5SuxTWMF"
      },
      "source": [
        ""
      ],
      "execution_count": null,
      "outputs": []
    },
    {
      "cell_type": "markdown",
      "metadata": {
        "id": "LdNDnhSsTWMF"
      },
      "source": [
        "# 문제 8.\n",
        "## 소수(prime number)란 1보다 큰 자연수 중 1과 자기 자신 두 개만을 약수로 갖는 수를 말한다. \n",
        "- 자연수 M과 N을 입력받아 M부터 N까지 소수의 개수를 구하여 출력하는 프로그램을 작성하시오.\n",
        "- M이상 N이하의 자연수 중 소수가 몇 개인지 구하여 출력한다.\n",
        "- 입력 예: 10 100\n",
        "- 출력 예: 21"
      ]
    },
    {
      "cell_type": "code",
      "metadata": {
        "id": "zZHvnbhlTWMF"
      },
      "source": [
        ""
      ],
      "execution_count": null,
      "outputs": []
    },
    {
      "cell_type": "code",
      "metadata": {
        "id": "1NsP9BjsTWMF"
      },
      "source": [
        ""
      ],
      "execution_count": null,
      "outputs": []
    },
    {
      "cell_type": "markdown",
      "metadata": {
        "id": "qgQPG3LBTWMF"
      },
      "source": [
        "# 보너스\n",
        "## 자연수 M과 N이 주어질 때 M이상 N이하의 자연수 중 소수인 것을 모두 골라 이들 소수의 합과 최소값을 찾는 프로그램을 작성하시오.\n",
        "\n",
        "- 예를 들어 M=60, N=100이 경우 60이상 100이하의 자연수 중 소수는 61, 67, 71, 73, 79, 83, 89, 97 총 8개가 있으므로, \n",
        "- 이들 소수의 합은 620이고, 최소값은 61이 된다."
      ]
    },
    {
      "cell_type": "code",
      "metadata": {
        "id": "LPxwsAuKTWMG"
      },
      "source": [
        ""
      ],
      "execution_count": null,
      "outputs": []
    },
    {
      "cell_type": "code",
      "metadata": {
        "id": "W9IqZ8uWTWMG"
      },
      "source": [
        ""
      ],
      "execution_count": null,
      "outputs": []
    },
    {
      "cell_type": "markdown",
      "metadata": {
        "id": "dozRhDI9TWMG"
      },
      "source": [
        "# 문제 9.\n",
        "## 아래의 결과를 보이도록 프로그램을 작성하시오."
      ]
    },
    {
      "cell_type": "code",
      "metadata": {
        "id": "nzkC-nytTWMG"
      },
      "source": [
        "   *\n",
        "  ***\n",
        " *****\n",
        "*******"
      ],
      "execution_count": null,
      "outputs": []
    },
    {
      "cell_type": "code",
      "metadata": {
        "id": "8BYEu6T-TWMG"
      },
      "source": [
        ""
      ],
      "execution_count": null,
      "outputs": []
    },
    {
      "cell_type": "code",
      "metadata": {
        "id": "oEfm-Fy-TWMG"
      },
      "source": [
        ""
      ],
      "execution_count": null,
      "outputs": []
    },
    {
      "cell_type": "markdown",
      "metadata": {
        "id": "h0gk-KWqTWMG"
      },
      "source": [
        "# 문제 10.\n",
        "## 아래의 피라미드 모형을 출력하시오.\n",
        "- 출력 결과에서 #은 공백(space)로 처리해도 됨."
      ]
    },
    {
      "cell_type": "code",
      "metadata": {
        "id": "Q10Ot5DgTWMG"
      },
      "source": [
        "###*###\n",
        "##***##\n",
        "#*****#\n",
        "*******\n",
        "#*****#\n",
        "##***##\n",
        "###*###"
      ],
      "execution_count": null,
      "outputs": []
    },
    {
      "cell_type": "code",
      "metadata": {
        "id": "3EDAtsriTWMH"
      },
      "source": [
        " *\n",
        "***\n",
        " *"
      ],
      "execution_count": null,
      "outputs": []
    },
    {
      "cell_type": "code",
      "metadata": {
        "id": "d0vCqeRZTWMH",
        "colab": {
          "base_uri": "https://localhost:8080/"
        },
        "outputId": "3384279d-8299-465d-f928-5ec6b4f6d74f"
      },
      "source": [
        "# 인터넷을 참고 했으나 이해 못함\n",
        "for x in range(1, 7 * 2, 2):\n",
        "      print((\" \" * ( (7 * 2 - 1 - x) // 2 )) + (\"*\" * x))\n",
        "for y in range(7 * 2-3, 0, -2):\n",
        "      print((\" \" * ( (7 * 2 - 1 - y) // 2 )) + \"*\" * y)"
      ],
      "execution_count": 23,
      "outputs": [
        {
          "output_type": "stream",
          "text": [
            "      *\n",
            "     ***\n",
            "    *****\n",
            "   *******\n",
            "  *********\n",
            " ***********\n",
            "*************\n",
            " ***********\n",
            "  *********\n",
            "   *******\n",
            "    *****\n",
            "     ***\n",
            "      *\n"
          ],
          "name": "stdout"
        }
      ]
    },
    {
      "cell_type": "markdown",
      "metadata": {
        "id": "ppf3R7b0TWMH"
      },
      "source": [
        "# 보너스2\n",
        "## 삼각형의 높이 N을 입력받아서 아래와 같이 문자 'A'부터 차례대로 왼쪽 대각선으로 채워서 삼각형 모양을 출력하는 프로그램을 작성하시오.\n",
        "- 입력 예 : 5"
      ]
    },
    {
      "cell_type": "code",
      "metadata": {
        "id": "4fRMsq9nTWMH"
      },
      "source": [
        "        A\n",
        "      B F\n",
        "    C G J\n",
        "  D H K M\n",
        "E I L N O"
      ],
      "execution_count": null,
      "outputs": []
    },
    {
      "cell_type": "code",
      "metadata": {
        "id": "803j1nowTWMH"
      },
      "source": [
        ""
      ],
      "execution_count": null,
      "outputs": []
    },
    {
      "cell_type": "code",
      "metadata": {
        "id": "q7PLmHVWTWMH"
      },
      "source": [
        ""
      ],
      "execution_count": null,
      "outputs": []
    },
    {
      "cell_type": "markdown",
      "metadata": {
        "id": "i8sOzGgcTWMH"
      },
      "source": [
        "# 문제 11.\n",
        "## 2진수를 입력받아 10진수로 변환하여 출력하는 프로그램을 작성하시오.\n",
        "- 입력 예: 10101\n",
        "- 출력 예: 21"
      ]
    },
    {
      "cell_type": "code",
      "metadata": {
        "id": "3j2GnSNdTWMH",
        "outputId": "ed6aadd8-2178-4f55-ea33-1945aeef11a8"
      },
      "source": [
        ""
      ],
      "execution_count": null,
      "outputs": [
        {
          "output_type": "stream",
          "text": [
            ":o\n"
          ],
          "name": "stdout"
        }
      ]
    },
    {
      "cell_type": "code",
      "metadata": {
        "id": "yyYsAXTOTWMI"
      },
      "source": [
        ""
      ],
      "execution_count": null,
      "outputs": []
    },
    {
      "cell_type": "markdown",
      "metadata": {
        "id": "NUq-gpBoTWMI"
      },
      "source": [
        "# 문제 12.\n",
        "\n",
        "## 복호화 키와 암호 문자를 입력으로 받아 원문을 구하는 프로그램을 구현하시오. 복호화 키는 26개의 소문자로 주어지며, a,b,c,d... 를 순서대로 복호화 키 문자로 대치한다는 것을 뜻한다.\n",
        "\n",
        " \n",
        "\n",
        "- 예를 들어, 복호화 키가 \"eydbkmiqugjxlvtzpnwohracsf\" 와 같이 주어진다고 하자, \n",
        "\n",
        "- 그러면 이는 다음과 같다 - a 문자는 e, b 문자는 y, ..., z 문자는 f로 바꿔줌.\n",
        "\n",
        "- 암호화 된 문자는 대소문자 혹은 공백이 올수 있고 대소문자는 대문자로 소문자는 소문자로 치환 규칙에 맞게 출력하고 , \n",
        "\n",
        "- 공백문자는 그대로 출력한다.\n",
        "\n",
        "- 입력 예: \n",
        "- eydbkmiqugjxlvtzpnwohracsf\n",
        "- Kifq oua zarxa suar bti yaagrj fa xtfgrj\n",
        "- 출력 예:\n",
        "- Jump the fence when you seeing me coming"
      ]
    },
    {
      "cell_type": "code",
      "metadata": {
        "id": "ALn65YeQTWMI"
      },
      "source": [
        ""
      ],
      "execution_count": null,
      "outputs": []
    },
    {
      "cell_type": "code",
      "metadata": {
        "id": "CS0tblcpTWMJ"
      },
      "source": [
        ""
      ],
      "execution_count": null,
      "outputs": []
    },
    {
      "cell_type": "markdown",
      "metadata": {
        "id": "Hie3wjYzTWMK"
      },
      "source": [
        "# diamond code"
      ]
    },
    {
      "cell_type": "code",
      "metadata": {
        "id": "lRoKPxtdTWMK",
        "outputId": "0e5e6ef7-ef1a-4d02-ced8-9bafd25110a6"
      },
      "source": [
        ""
      ],
      "execution_count": null,
      "outputs": [
        {
          "output_type": "stream",
          "text": [
            "Enter a floor of diamond(odd)[quit: -1]: 3\n",
            "  *  \n",
            " *** \n",
            "  *  \n",
            "Enter a floor of diamond(odd)[quit: -1]: 1\n",
            "*\n",
            "Enter a floor of diamond(odd)[quit: -1]: 5\n",
            "    *    \n",
            "   ***   \n",
            "  *****  \n",
            "   ***   \n",
            "    *    \n",
            "Enter a floor of diamond(odd)[quit: -1]: 7\n",
            "      *      \n",
            "     ***     \n",
            "    *****    \n",
            "   *******   \n",
            "    *****    \n",
            "     ***     \n",
            "      *      \n",
            "Enter a floor of diamond(odd)[quit: -1]: -1\n"
          ],
          "name": "stdout"
        }
      ]
    },
    {
      "cell_type": "code",
      "metadata": {
        "id": "xhiH0rszTWMK"
      },
      "source": [
        ""
      ],
      "execution_count": null,
      "outputs": []
    },
    {
      "cell_type": "code",
      "metadata": {
        "id": "ZNaXh146TWMK"
      },
      "source": [
        ""
      ],
      "execution_count": null,
      "outputs": []
    },
    {
      "cell_type": "code",
      "metadata": {
        "id": "3KbG0CgSTWMK",
        "outputId": "20de8dcc-4548-4b06-b7bb-2786a8a216e1"
      },
      "source": [
        ""
      ],
      "execution_count": null,
      "outputs": [
        {
          "output_type": "stream",
          "text": [
            "mid: 0\n",
            "*\n",
            "==================\n",
            "mid: 1\n",
            " * \n",
            "***\n",
            " * \n",
            "==================\n",
            "mid: 2\n",
            "  *  \n",
            " *** \n",
            "*****\n",
            " *** \n",
            "  *  \n",
            "==================\n",
            "mid: 3\n",
            "   *   \n",
            "  ***  \n",
            " ***** \n",
            "*******\n",
            " ***** \n",
            "  ***  \n",
            "   *   \n",
            "==================\n",
            "mid: 4\n",
            "    *    \n",
            "   ***   \n",
            "  *****  \n",
            " ******* \n",
            "*********\n",
            " ******* \n",
            "  *****  \n",
            "   ***   \n",
            "    *    \n",
            "==================\n"
          ],
          "name": "stdout"
        }
      ]
    },
    {
      "cell_type": "code",
      "metadata": {
        "id": "KEMNHkJVTWML"
      },
      "source": [
        ""
      ],
      "execution_count": null,
      "outputs": []
    },
    {
      "cell_type": "code",
      "metadata": {
        "id": "6TTc4ui7TWML"
      },
      "source": [
        ""
      ],
      "execution_count": null,
      "outputs": []
    },
    {
      "cell_type": "code",
      "metadata": {
        "id": "UwabX15tTWMM"
      },
      "source": [
        ""
      ],
      "execution_count": null,
      "outputs": []
    },
    {
      "cell_type": "code",
      "metadata": {
        "id": "qfSTD7_HTWMM"
      },
      "source": [
        ""
      ],
      "execution_count": null,
      "outputs": []
    }
  ]
}