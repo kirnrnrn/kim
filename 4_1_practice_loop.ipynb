{
  "nbformat": 4,
  "nbformat_minor": 0,
  "metadata": {
    "kernelspec": {
      "display_name": "Python 3",
      "language": "python",
      "name": "python3"
    },
    "language_info": {
      "codemirror_mode": {
        "name": "ipython",
        "version": 3
      },
      "file_extension": ".py",
      "mimetype": "text/x-python",
      "name": "python",
      "nbconvert_exporter": "python",
      "pygments_lexer": "ipython3",
      "version": "3.6.6"
    },
    "colab": {
      "name": "4.1 practice_loop.ipynb",
      "provenance": [],
      "include_colab_link": true
    }
  },
  "cells": [
    {
      "cell_type": "markdown",
      "metadata": {
        "id": "view-in-github",
        "colab_type": "text"
      },
      "source": [
        "<a href=\"https://colab.research.google.com/github/kirnrnrn/kim/blob/main/4_1_practice_loop.ipynb\" target=\"_parent\"><img src=\"https://colab.research.google.com/assets/colab-badge.svg\" alt=\"Open In Colab\"/></a>"
      ]
    },
    {
      "cell_type": "markdown",
      "metadata": {
        "id": "WDhJBriZ6bxc"
      },
      "source": [
        "# 문제 1.(for)\n",
        "## for 문을 이용하여 1부터 입력받은 정수까지의 합을 구하여 출력하는 프로그램을 작성하시오.\n",
        "- 100 이하의 양의 정수만 입력된다. \n",
        "- 입력 예: 10\n",
        "- 출력 예: 55"
      ]
    },
    {
      "cell_type": "code",
      "metadata": {
        "colab": {
          "base_uri": "https://localhost:8080/"
        },
        "id": "Z5XuIEtQ6bxu",
        "outputId": "4a1f1c27-f05d-47d2-d297-94626f244442"
      },
      "source": [
        "num=input('숫자를 입력하시오')\n",
        "Num=int(num)\n",
        "sum=0\n",
        "for n in range(1,Num+1):\n",
        "  sum=sum+n\n",
        "print(sum)"
      ],
      "execution_count": null,
      "outputs": [
        {
          "output_type": "stream",
          "text": [
            "숫자를 입력하시오10\n",
            "55\n"
          ],
          "name": "stdout"
        }
      ]
    },
    {
      "cell_type": "markdown",
      "metadata": {
        "id": "EZsSYYrz6bxw"
      },
      "source": [
        "# 문제 2.\n",
        "## 정수를 계속 입력받다가 100 이상의 수가 입력이 되면 마지막 입력된 수를 포함하여 합계와 평균을 출력하는 프로그램을 작성하시오.\n",
        "\n",
        "- 평균은 반올림하여 소수 첫째자리까지 출력한다."
      ]
    },
    {
      "cell_type": "code",
      "metadata": {
        "id": "6f8F6VFo6bxx",
        "colab": {
          "base_uri": "https://localhost:8080/"
        },
        "outputId": "c7e783f8-1f57-4bf1-a783-2746ac039d31"
      },
      "source": [
        "# 수업중에 풀었던 문제를 참고하여 풀었습니다.\n",
        "sum=0\n",
        "A=0\n",
        "count=0\n",
        "while A>=0:\n",
        "    A= int(input(\"정수를28 입력하시오:\"))\n",
        "    if A >100:\n",
        "        break\n",
        "    if A>=0:\n",
        "        sum = sum + A\n",
        "        print(\"누적함:\",sum)\n",
        "        count= count+1\n",
        "        print(\"입력 횟수\",count)\n",
        "    else: \n",
        "        A=-1\n",
        "average= sum/count\n",
        "print(\"평균:\",average)\n"
      ],
      "execution_count": null,
      "outputs": [
        {
          "output_type": "stream",
          "text": [
            "정수를 입력하시오:54\n",
            "누적함: 54\n",
            "입력 횟수 1\n",
            "정수를 입력하시오:60\n",
            "누적함: 114\n",
            "입력 횟수 2\n",
            "정수를 입력하시오:36\n",
            "누적함: 150\n",
            "입력 횟수 3\n",
            "정수를 입력하시오:8\n",
            "누적함: 158\n",
            "입력 횟수 4\n",
            "정수를 입력하시오:3456\n",
            "평균: 39.5\n"
          ],
          "name": "stdout"
        }
      ]
    },
    {
      "cell_type": "markdown",
      "metadata": {
        "id": "9I6Gt4Bu6bxy"
      },
      "source": [
        "# 문제 3.\n",
        "## 정수를 입력받아서 3의 배수가 아닌 경우에는 아무 작업도 하지 않고, 3의 배수인 경우에는 3으로 나눈몫을 출력하는 작업을 반복하다가 -1이 입력되면 종료하는 프로그램을 작성하시오.\n",
        "예시:\n",
        "- 5\n",
        "- 12 \n",
        "- <h2>4</h2>\n",
        "- 21\n",
        "- <h2>7</h2>\n",
        "- 100\n",
        "- -1"
      ]
    },
    {
      "cell_type": "code",
      "metadata": {
        "id": "4UkohU3p6bxy"
      },
      "source": [
        "Num=input('정수를 입력하시오')\n",
        "num=int(Num)\n",
        "if num%3=0:\n",
        "  repeat()"
      ],
      "execution_count": null,
      "outputs": []
    },
    {
      "cell_type": "markdown",
      "metadata": {
        "id": "jh_rjQVQ6bxz"
      },
      "source": [
        "# 보너스(for)\n",
        "## 아래와 같은 모양으로 출력하는 프로그램을 작성하시오.\n",
        " - 사용자에게 숫자를 입력받아 입력 받은 높이 만큼의 삼각형을 출력하시오.\n",
        " - 입력 예: 5"
      ]
    },
    {
      "cell_type": "code",
      "metadata": {
        "id": "aLRIEsYD6bx0"
      },
      "source": [
        "    *\n",
        "   **\n",
        "  ***\n",
        " ****\n",
        "*****"
      ],
      "execution_count": null,
      "outputs": []
    },
    {
      "cell_type": "code",
      "metadata": {
        "id": "Zhh3pFoD6bx1"
      },
      "source": [
        "a=int(input('숫자를 입력하시오'))"
      ],
      "execution_count": null,
      "outputs": []
    },
    {
      "cell_type": "code",
      "metadata": {
        "id": "yicHXdcX6bx2"
      },
      "source": [
        ""
      ],
      "execution_count": null,
      "outputs": []
    },
    {
      "cell_type": "markdown",
      "metadata": {
        "id": "rnrt1tRM6bx2"
      },
      "source": [
        "# 문제 4. \n",
        "## 아래와 같이 나라 이름을 출력하고 숫자를 입력받아 해당하는 나라의 수도를 출력하는 작업을 반복하다가 해당하는 번호 이외의 숫자가 입력되면 \"none\"라고 출력한 후 종료하는 프로그램을 작성하시오.\n",
        "\n",
        "* 각 나라의 수도 : \n",
        "- 대한민국 = 서울(Seoul)\n",
        "- 미국 = 워싱턴(Washington)\n",
        "- 일본 = 동경(Tokyo)\n",
        "- 중국 = 북경(Beijing)\n",
        "\n",
        "예시\n",
        "입력 예:\n",
        "1. Korea\n",
        "2. USA\n",
        "3. Japan\n",
        "4. China\n",
        "number? 1\n",
        "\n",
        "출력 예:\n",
        "Seoul\n",
        "\n",
        "1. Korea\n",
        "2. USA\n",
        "3. Japan\n",
        "4. China\n",
        "number? 5\n",
        "\n",
        "none"
      ]
    },
    {
      "cell_type": "code",
      "metadata": {
        "id": "_oA70kPB6bx3",
        "colab": {
          "base_uri": "https://localhost:8080/"
        },
        "outputId": "b6d394f1-e3dd-407c-97f4-71f7110c7dfe"
      },
      "source": [
        "print('1','.','Korea',sep='')\n",
        "print('2','.','USA',sep='')\n",
        "print('3','.','Japan',sep='')\n",
        "print('4','.','China',sep='')\n",
        "num=input('번호를 입력하시오')\n",
        "Num=int(num)\n",
        "if Num == 1:\n",
        "  print('서울')\n",
        "elif Num == 2:\n",
        "  print('워싱턴')\n",
        "elif Num == 3:\n",
        "  print('동경')\n",
        "elif Num == 4:\n",
        "  print('북경')\n",
        "\n",
        "elif Num > 5:\n",
        "  print('none')"
      ],
      "execution_count": null,
      "outputs": [
        {
          "output_type": "stream",
          "text": [
            "1.Korea\n",
            "2.USA\n",
            "3.Japan\n",
            "4.China\n",
            "번호를 입력하시오3\n",
            "동경\n"
          ],
          "name": "stdout"
        }
      ]
    },
    {
      "cell_type": "code",
      "metadata": {
        "id": "Hq50_b156bx3"
      },
      "source": [
        ""
      ],
      "execution_count": null,
      "outputs": []
    },
    {
      "cell_type": "markdown",
      "metadata": {
        "id": "iXNDQd7E6bx4"
      },
      "source": [
        "# 문제 5.\n",
        "## 0 이상의 정수들이 공백으로 구분되어 반복적으로 주어진다. 0이 입력되면 반복문을 멈추고 그 전까지 입력받은 수들에 대하여 홀수의 개수와 짝수의 개수를 출력하는 프로그램을 작성하시오.\n",
        "- 입력 예: 9 7 10 5 33 65 0\n",
        "- 출력 예: \n",
        " odd : 5\n",
        " even : 1"
      ]
    },
    {
      "cell_type": "code",
      "metadata": {
        "id": "KEq7MvP86bx5",
        "colab": {
          "base_uri": "https://localhost:8080/"
        },
        "outputId": "59f6a898-e30c-4d80-ee87-fbf5404d0391"
      },
      "source": [
        "odd=[]\n",
        "even=[]\n",
        "i=1\n",
        "while i>0:\n",
        "  i=int(input('정수를 입력하시오'))\n",
        "  if i == 0:\n",
        "    break\n",
        "  if i % 2 == 1:\n",
        "    odd.append(i)\n",
        "  else:\n",
        "    even.append(i)\n",
        "print('odd:',len(odd),'even',len(even))\n",
        "\n"
      ],
      "execution_count": 2,
      "outputs": [
        {
          "output_type": "stream",
          "text": [
            "정수를 입력하시오3\n",
            "정수를 입력하시오4\n",
            "정수를 입력하시오3\n",
            "정수를 입력하시오1\n",
            "정수를 입력하시오6\n",
            "정수를 입력하시오2\n",
            "정수를 입력하시오0\n",
            "odd: 3 even 3\n"
          ],
          "name": "stdout"
        }
      ]
    },
    {
      "cell_type": "code",
      "metadata": {
        "id": "reb6KYFg6bx5"
      },
      "source": [
        ""
      ],
      "execution_count": null,
      "outputs": []
    },
    {
      "cell_type": "markdown",
      "metadata": {
        "id": "LPrMpwoC6bx5"
      },
      "source": [
        "# 문제 6.\n",
        "## 삼각형의 밑변의 길이와 높이를 입력받아 넓이를 출력하고, \"Continue? \"에서 하나의 문자를 입력받아 그 문자가 'Y' 나 'y' 이면 작업을 반복하고 다른 문자이면 종료하는 프로그램을 작성하시오.\n",
        "\n",
        "- 넓이는 반올림하여 소수 첫째자리까지 출력한다.\n",
        "예시\n",
        "###### Base = 11\n",
        "###### Height = 5\n",
        "###### Triangle width = 27.5\n",
        "###### Continue? Y\n",
        "###### Base = 10\n",
        "###### Height = 10\n",
        "###### Triangle width = 50.0\n",
        "###### Continue? N"
      ]
    },
    {
      "cell_type": "code",
      "metadata": {
        "id": "S8osKHEG6bx6",
        "colab": {
          "base_uri": "https://localhost:8080/"
        },
        "outputId": "a704ddc8-e01e-4774-d8c4-47b8bce9b754"
      },
      "source": [
        "a = 1\n",
        "while a>=0:\n",
        "  a=int(input('base를 입력하시오:'))\n",
        "  b=int(input('height를 입력하시오:'))\n",
        "  TriangleWidth = a*b/2\n",
        "  print(TriangleWidth)\n",
        "  c=input('continue?')\n",
        "  if c is 'y'or 'Y':\n",
        "    break\n",
        "print(TriangleWidth)\n"
      ],
      "execution_count": 8,
      "outputs": [
        {
          "output_type": "stream",
          "text": [
            "base를 입력하시오:11\n",
            "height를 입력하시오:5\n",
            "27.5\n",
            "continue?q\n",
            "27.5\n"
          ],
          "name": "stdout"
        }
      ]
    },
    {
      "cell_type": "code",
      "metadata": {
        "id": "ah2-Ngsb6bx7"
      },
      "source": [
        ""
      ],
      "execution_count": null,
      "outputs": []
    },
    {
      "cell_type": "markdown",
      "metadata": {
        "id": "azBDHRRy6bx7"
      },
      "source": [
        "# 문제 7.(for)\n",
        "## 100 이하의 두 개의 정수를 입력받아 작은 수부터 큰 수까지 차례대로 출력하는 프로그램을 작성하시오.\n",
        "- 입력 예: 5 10\n",
        "- 출력 예: 5 6 7 8 9 10"
      ]
    },
    {
      "cell_type": "code",
      "metadata": {
        "id": "-4-dAJ1g6bx8",
        "colab": {
          "base_uri": "https://localhost:8080/"
        },
        "outputId": "aff330ec-3225-48ce-93fe-85e7833b955e"
      },
      "source": [
        "num1=int(input('정수를 입력하시오'))\n",
        "num2=int(input('정수를 입력하시오'))\n",
        "list=[]\n",
        "if num1>num2:\n",
        "  for n in range(num1,num2 + 1,1):\n",
        "    list.append(n)\n",
        "    list.sort()\n",
        "elif num1<num2:\n",
        "    for k in range(num2,num1+1,1):\n",
        "      list.append(k)\n",
        "      list.sort()\n",
        "print(list)"
      ],
      "execution_count": 12,
      "outputs": [
        {
          "output_type": "stream",
          "text": [
            "정수를 입력하시오5\n",
            "정수를 입력하시오10\n",
            "[]\n"
          ],
          "name": "stdout"
        }
      ]
    },
    {
      "cell_type": "markdown",
      "metadata": {
        "id": "Uu45Jy0v6bx8"
      },
      "source": [
        "# 문제 8.(for)\n",
        "## 두 개의 정수를 입력받아 두 정수 사이(두 정수를 포함)에 3의 배수이거나 5의 배수인 수들의 합과 평균을 출력하는 프로그램을 작성하시오.\n",
        "- 평균은 반올림하여 소수 첫째자리까지 출력한다.\n",
        "- 입력 예: 10 15\n",
        "- 출력 예: \n",
        "sum : 37\n",
        "avg : 12.3"
      ]
    },
    {
      "cell_type": "code",
      "metadata": {
        "id": "7JsYauO-6bx9",
        "colab": {
          "base_uri": "https://localhost:8080/",
          "height": 274
        },
        "outputId": "c715e3f9-fc8b-42ab-b94d-d2d0ccb9d1b8"
      },
      "source": [
        "a =int(input('정수를 입력하시오:'))\n",
        "b =int(input('정수를 입력하시오:'))\n",
        "c = list(range(a,b+1,1))\n",
        "print(c)\n",
        "\n",
        "\n",
        "  "
      ],
      "execution_count": 17,
      "outputs": [
        {
          "output_type": "stream",
          "text": [
            "정수를 입력하시오:10\n",
            "정수를 입력하시오:15\n"
          ],
          "name": "stdout"
        },
        {
          "output_type": "error",
          "ename": "TypeError",
          "evalue": "ignored",
          "traceback": [
            "\u001b[0;31m---------------------------------------------------------------------------\u001b[0m",
            "\u001b[0;31mTypeError\u001b[0m                                 Traceback (most recent call last)",
            "\u001b[0;32m<ipython-input-17-7f864c68a395>\u001b[0m in \u001b[0;36m<module>\u001b[0;34m()\u001b[0m\n\u001b[1;32m      1\u001b[0m \u001b[0ma\u001b[0m \u001b[0;34m=\u001b[0m\u001b[0mint\u001b[0m\u001b[0;34m(\u001b[0m\u001b[0minput\u001b[0m\u001b[0;34m(\u001b[0m\u001b[0;34m'정수를 입력하시오:'\u001b[0m\u001b[0;34m)\u001b[0m\u001b[0;34m)\u001b[0m\u001b[0;34m\u001b[0m\u001b[0;34m\u001b[0m\u001b[0m\n\u001b[1;32m      2\u001b[0m \u001b[0mb\u001b[0m \u001b[0;34m=\u001b[0m\u001b[0mint\u001b[0m\u001b[0;34m(\u001b[0m\u001b[0minput\u001b[0m\u001b[0;34m(\u001b[0m\u001b[0;34m'정수를 입력하시오:'\u001b[0m\u001b[0;34m)\u001b[0m\u001b[0;34m)\u001b[0m\u001b[0;34m\u001b[0m\u001b[0;34m\u001b[0m\u001b[0m\n\u001b[0;32m----> 3\u001b[0;31m \u001b[0mc\u001b[0m \u001b[0;34m=\u001b[0m \u001b[0mlist\u001b[0m\u001b[0;34m(\u001b[0m\u001b[0mrange\u001b[0m\u001b[0;34m(\u001b[0m\u001b[0ma\u001b[0m\u001b[0;34m,\u001b[0m\u001b[0mb\u001b[0m\u001b[0;34m+\u001b[0m\u001b[0;36m1\u001b[0m\u001b[0;34m,\u001b[0m\u001b[0;36m1\u001b[0m\u001b[0;34m)\u001b[0m\u001b[0;34m)\u001b[0m\u001b[0;34m\u001b[0m\u001b[0;34m\u001b[0m\u001b[0m\n\u001b[0m\u001b[1;32m      4\u001b[0m \u001b[0mprint\u001b[0m\u001b[0;34m(\u001b[0m\u001b[0mc\u001b[0m\u001b[0;34m)\u001b[0m\u001b[0;34m\u001b[0m\u001b[0;34m\u001b[0m\u001b[0m\n\u001b[1;32m      5\u001b[0m \u001b[0;34m\u001b[0m\u001b[0m\n",
            "\u001b[0;31mTypeError\u001b[0m: 'list' object is not callable"
          ]
        }
      ]
    },
    {
      "cell_type": "markdown",
      "metadata": {
        "id": "DL8lqpVw6bx9"
      },
      "source": [
        "# 문제 9. (for)\n",
        "## 2부터 9까지의 수 중 2개를 입력받아 입력받은 수 사이의 구구단을 출력하는 프로그램을 작성하시오.\n",
        "- 단 반드시 먼저 입력된 수의 구구단부터 아래의 형식에 맞게 출력하여야 한다.\n",
        "- 구구단 사이의 공백은 3칸이다.\n",
        "- 입력 예: 5 3\n",
        "- 출력 예:\n",
        "5 * 1 =  5   4 * 1 =  4   3 * 1 =  3\n",
        "5 * 2 = 10   4 * 2 =  8   3 * 2 =  6\n",
        "5 * 3 = 15   4 * 3 = 12   3 * 3 =  9\n",
        "5 * 4 = 20   4 * 4 = 16   3 * 4 = 12\n",
        "5 * 5 = 25   4 * 5 = 20   3 * 5 = 15\n",
        "5 * 6 = 30   4 * 6 = 24   3 * 6 = 18\n",
        "5 * 7 = 35   4 * 7 = 28   3 * 7 = 21\n",
        "5 * 8 = 40   4 * 8 = 32   3 * 8 = 24\n",
        "5 * 9 = 45   4 * 9 = 36   3 * 9 = 27"
      ]
    },
    {
      "cell_type": "code",
      "metadata": {
        "id": "kdMs97Rz6bx-",
        "colab": {
          "base_uri": "https://localhost:8080/"
        },
        "outputId": "7686f773-1e3d-46e3-87da-8971e701c836"
      },
      "source": [
        "#모르겠습니다.\n",
        "\n",
        "a =int(input('정수를 입력하시오:'))\n",
        "b =int(input('정수를 입력하시오:'))\n",
        "c=b+1\n",
        "for i in range(a,c):\n",
        "    \n",
        "    if i<c:\n",
        "      i=i+1\n",
        "    else:\n",
        "      break\n",
        "\n",
        "print(i)\n",
        "  \n",
        "\n",
        "  "
      ],
      "execution_count": null,
      "outputs": [
        {
          "output_type": "stream",
          "text": [
            "정수를 입력하시오:3\n",
            "정수를 입력하시오:5\n",
            "6\n"
          ],
          "name": "stdout"
        }
      ]
    },
    {
      "cell_type": "code",
      "metadata": {
        "id": "jU2TIc0w6bx-"
      },
      "source": [
        ""
      ],
      "execution_count": null,
      "outputs": []
    },
    {
      "cell_type": "markdown",
      "metadata": {
        "id": "2-1BFTTw6bx-"
      },
      "source": [
        "# 보너스2 (for)\n",
        "## 아래와 같은 모양으로 출력하는 프로그램을 작성하시오.\n",
        " - 사용자에게 숫자를 입력받아 입력 받은 높이 만큼의 삼각형을 출력하시오.\n",
        " - 입력 예: 5"
      ]
    },
    {
      "cell_type": "code",
      "metadata": {
        "id": "lSnt9fnS6bx_"
      },
      "source": [
        "*****\n",
        " ****\n",
        "  ***\n",
        "   **\n",
        "    *"
      ],
      "execution_count": null,
      "outputs": []
    },
    {
      "cell_type": "code",
      "metadata": {
        "id": "WHV8xTBI6bx_"
      },
      "source": [
        ""
      ],
      "execution_count": null,
      "outputs": []
    },
    {
      "cell_type": "code",
      "metadata": {
        "id": "c901L62m6byA"
      },
      "source": [
        ""
      ],
      "execution_count": null,
      "outputs": []
    },
    {
      "cell_type": "code",
      "metadata": {
        "id": "F5A1-CVw6byA"
      },
      "source": [
        ""
      ],
      "execution_count": null,
      "outputs": []
    }
  ]
}