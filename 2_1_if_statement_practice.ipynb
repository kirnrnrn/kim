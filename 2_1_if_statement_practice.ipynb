{
  "nbformat": 4,
  "nbformat_minor": 0,
  "metadata": {
    "kernelspec": {
      "display_name": "Python 3",
      "language": "python",
      "name": "python3"
    },
    "language_info": {
      "codemirror_mode": {
        "name": "ipython",
        "version": 3
      },
      "file_extension": ".py",
      "mimetype": "text/x-python",
      "name": "python",
      "nbconvert_exporter": "python",
      "pygments_lexer": "ipython3",
      "version": "3.6.6"
    },
    "colab": {
      "name": "2.1 if_statement_practice.ipynb",
      "provenance": [],
      "collapsed_sections": [],
      "include_colab_link": true
    }
  },
  "cells": [
    {
      "cell_type": "markdown",
      "metadata": {
        "id": "view-in-github",
        "colab_type": "text"
      },
      "source": [
        "<a href=\"https://colab.research.google.com/github/kirnrnrn/kim/blob/main/2_1_if_statement_practice.ipynb\" target=\"_parent\"><img src=\"https://colab.research.google.com/assets/colab-badge.svg\" alt=\"Open In Colab\"/></a>"
      ]
    },
    {
      "cell_type": "markdown",
      "metadata": {
        "id": "JsWrZowUSwi1"
      },
      "source": [
        "# 문제 1.\n",
        "- 정수를 입력받아 첫 줄에 입력 받은 숫자를 출력하고 둘째 줄에 음수이면 “minus” 라고 출력하는 프로그램을 작성하시오.\n",
        "- 입력 예1: -5\n",
        "- 출력 예1: \n",
        "    * -5\n",
        "    * minus\n",
        "\n",
        "- 입력 예2: 5\n",
        "- 출력 예2: \n",
        "    * 5"
      ]
    },
    {
      "cell_type": "code",
      "metadata": {
        "id": "3LcZwmyPSwi8",
        "colab": {
          "base_uri": "https://localhost:8080/"
        },
        "outputId": "d9957e62-8adc-4330-cd58-757a6d02970e"
      },
      "source": [
        "a=input(\"정수를 입력하세요\")\n",
        "A=int(a)\n",
        "if A<0 :\n",
        "  print(A)\n",
        "  print('minus')\n",
        "else :\n",
        "  print(A)"
      ],
      "execution_count": null,
      "outputs": [
        {
          "output_type": "stream",
          "text": [
            "정수를 입력하세요5\n",
            "5\n"
          ],
          "name": "stdout"
        }
      ]
    },
    {
      "cell_type": "code",
      "metadata": {
        "id": "jl8fQD0zSwi9"
      },
      "source": [
        ""
      ],
      "execution_count": null,
      "outputs": []
    },
    {
      "cell_type": "markdown",
      "metadata": {
        "id": "EV6FBH8PSwi9"
      },
      "source": [
        "# 문제 2.\n",
        "- “몸무게+100-키”를 비만수치 공식이라고 하자.\n",
        "- 키와 몸무게를 자연수로 입력받아 첫 번째 줄에 비만수치를 출력하고, 비만수치가 0보다 크면 다음줄에 비만(\"Obesity\")이라는 메시지를 출력하는 프로그램을 작성하시오.\n",
        "- 입력 예: 155 60\n",
        "- 출력 예: \n",
        "    * 5\n",
        "    * Obesity"
      ]
    },
    {
      "cell_type": "code",
      "metadata": {
        "id": "kF7icXQTSwi-",
        "colab": {
          "base_uri": "https://localhost:8080/"
        },
        "outputId": "c2622995-0cf4-426b-eb88-06f6e218ba6d"
      },
      "source": [
        "kg=input(\"몸무게를 입력하시오:\")\n",
        "hi=input(\"신장을 입력하시오:\")\n",
        "KG=int(kg)\n",
        "HI=int(hi)\n",
        "ob=KG+100-HI\n",
        "if ob>0:\n",
        "  print(ob)\n",
        "  print(\"Obesity\")"
      ],
      "execution_count": null,
      "outputs": [
        {
          "output_type": "stream",
          "text": [
            "몸무게를 입력하시오:60\n",
            "신장을 입력하시오:145\n",
            "15\n",
            "Obesity\n"
          ],
          "name": "stdout"
        }
      ]
    },
    {
      "cell_type": "code",
      "metadata": {
        "id": "DCGFoRYpSwi-"
      },
      "source": [
        ""
      ],
      "execution_count": null,
      "outputs": []
    },
    {
      "cell_type": "markdown",
      "metadata": {
        "id": "lb0F8jfCSwi-"
      },
      "source": [
        "# 문제 3.\n",
        "- 나이를 입력받아 20살 이상이면 \"adult\"라고 출력하고 그렇지 않으면 몇 년후에 성인이 되는지를 \"○ years later\"라는 메시지를 출력하는 프로그램을 작성하시오.\n",
        "- 입력 예: 18\n",
        "- 출력 예: 2 years later"
      ]
    },
    {
      "cell_type": "code",
      "metadata": {
        "id": "ah7jg7j6Swi-",
        "colab": {
          "base_uri": "https://localhost:8080/"
        },
        "outputId": "e7a94c5d-ad1f-44a7-cf44-f8f9e6e7b5be"
      },
      "source": [
        "age=input(\"나이를 입력하세요:\")\n",
        "Age=int(age)\n",
        "if Age>=20:\n",
        "  print(\"adult\")\n",
        "else:\n",
        "  print(20-Age,\"years\",\"later\")"
      ],
      "execution_count": null,
      "outputs": [
        {
          "output_type": "stream",
          "text": [
            "나이를 입력하세요:1\n",
            "19 years later\n"
          ],
          "name": "stdout"
        }
      ]
    },
    {
      "cell_type": "code",
      "metadata": {
        "id": "uu-vMNd9Swi_"
      },
      "source": [
        ""
      ],
      "execution_count": null,
      "outputs": []
    },
    {
      "cell_type": "markdown",
      "metadata": {
        "id": "MOe6Ky19Swi_"
      },
      "source": [
        "# 문제 4.\n",
        "- 복싱체급은 몸무게가 50.80kg 이하를 Flyweight 61.23kg 이하를 Lightweight, 72.57kg 이하를 Middleweight, 88.45kg 이하를 Cruiserweight, 88.45kg 초과를 Heavyweight라고 하자.\n",
        "\n",
        "- 몸무게를 입력받아 체급을 출력하는 프로그램을 작성하시오.\n",
        "- 입력 예: 87.3\n",
        "- 출력 예: Cruiserweight"
      ]
    },
    {
      "cell_type": "code",
      "metadata": {
        "id": "OMriWkSfSwi_",
        "colab": {
          "base_uri": "https://localhost:8080/",
          "height": 257
        },
        "outputId": "1abe3a95-f4e0-4f11-da50-618f685f2b2f"
      },
      "source": [
        "a = int(input(\"몸무게를 입력하세요:\"))\n",
        "\n",
        "if a <= 50.8:\n",
        "  print(\"Flyweight\")\n",
        "elif a <= 61.23 and a > 50.8:\n",
        "  print(\"Lightweight\")\n",
        "elif a <= 72.57 and a > 61.23:\n",
        "  print(\"Middleweight\")\n",
        "elif a <= 88.45 and a >72.57:\n",
        "  print(\"Cruiserweight\")\n",
        "elif a > 88.45:\n",
        "  print(\"Heavyweight\")"
      ],
      "execution_count": 4,
      "outputs": [
        {
          "output_type": "stream",
          "text": [
            "몸무게를 입력하세요:87.3\n"
          ],
          "name": "stdout"
        },
        {
          "output_type": "error",
          "ename": "ValueError",
          "evalue": "ignored",
          "traceback": [
            "\u001b[0;31m---------------------------------------------------------------------------\u001b[0m",
            "\u001b[0;31mValueError\u001b[0m                                Traceback (most recent call last)",
            "\u001b[0;32m<ipython-input-4-c83842f30384>\u001b[0m in \u001b[0;36m<module>\u001b[0;34m()\u001b[0m\n\u001b[0;32m----> 1\u001b[0;31m \u001b[0ma\u001b[0m \u001b[0;34m=\u001b[0m \u001b[0mint\u001b[0m\u001b[0;34m(\u001b[0m\u001b[0minput\u001b[0m\u001b[0;34m(\u001b[0m\u001b[0;34m\"몸무게를 입력하세요:\"\u001b[0m\u001b[0;34m)\u001b[0m\u001b[0;34m)\u001b[0m\u001b[0;34m\u001b[0m\u001b[0;34m\u001b[0m\u001b[0m\n\u001b[0m\u001b[1;32m      2\u001b[0m \u001b[0;34m\u001b[0m\u001b[0m\n\u001b[1;32m      3\u001b[0m \u001b[0;32mif\u001b[0m \u001b[0ma\u001b[0m \u001b[0;34m<=\u001b[0m \u001b[0;36m50.8\u001b[0m\u001b[0;34m:\u001b[0m\u001b[0;34m\u001b[0m\u001b[0;34m\u001b[0m\u001b[0m\n\u001b[1;32m      4\u001b[0m   \u001b[0mprint\u001b[0m\u001b[0;34m(\u001b[0m\u001b[0;34m\"Flyweight\"\u001b[0m\u001b[0;34m)\u001b[0m\u001b[0;34m\u001b[0m\u001b[0;34m\u001b[0m\u001b[0m\n\u001b[1;32m      5\u001b[0m \u001b[0;32melif\u001b[0m \u001b[0ma\u001b[0m \u001b[0;34m<=\u001b[0m \u001b[0;36m61.23\u001b[0m \u001b[0;32mand\u001b[0m \u001b[0ma\u001b[0m \u001b[0;34m>\u001b[0m \u001b[0;36m50.8\u001b[0m\u001b[0;34m:\u001b[0m\u001b[0;34m\u001b[0m\u001b[0;34m\u001b[0m\u001b[0m\n",
            "\u001b[0;31mValueError\u001b[0m: invalid literal for int() with base 10: '87.3'"
          ]
        }
      ]
    },
    {
      "cell_type": "code",
      "metadata": {
        "id": "f-wEOxhESwi_"
      },
      "source": [
        ""
      ],
      "execution_count": null,
      "outputs": []
    },
    {
      "cell_type": "markdown",
      "metadata": {
        "id": "R9ZgQpiJSwi_"
      },
      "source": [
        "# 문제 5.\n",
        "- 두 개의 실수를 입력받아 모두 4.0 이상이면 \"A\", 모두 3.0 이상이면 \"B\", 아니면 \"C\" 라고 출력하는 프로그램을 작성하시오.\n",
        "- 입력 예1: 4.3 3.5\n",
        "- 출력 예1: B\n",
        "\n",
        "- 입력 예2: 4.0 2.9\n",
        "- 출력 예2: C\n"
      ]
    },
    {
      "cell_type": "code",
      "metadata": {
        "id": "un0pRFuPSwjA",
        "colab": {
          "base_uri": "https://localhost:8080/"
        },
        "outputId": "e24107d1-54a9-489e-c9ca-284ae53f3c92"
      },
      "source": [
        "num=int(input('실수를 입력하세요'))\n",
        "numb=int(input('실수를 입력하세요'))\n",
        "\n",
        "if num>=4.0 and numb>=4.0:\n",
        "  print('A')\n",
        "elif num<=4.0 and numb<=4.0 and num>=3.0 and numb>=3.0:\n",
        "  print('B')\n",
        "else:\n",
        "  print('C')"
      ],
      "execution_count": 7,
      "outputs": [
        {
          "output_type": "stream",
          "text": [
            "실수를 입력하세요4\n",
            "실수를 입력하세요3\n",
            "B\n"
          ],
          "name": "stdout"
        }
      ]
    },
    {
      "cell_type": "code",
      "metadata": {
        "id": "ihxyCNUbSwjA"
      },
      "source": [
        ""
      ],
      "execution_count": null,
      "outputs": []
    },
    {
      "cell_type": "markdown",
      "metadata": {
        "id": "-InNR_MtSwjA"
      },
      "source": [
        "# 문제 6.\n",
        "- 영문 대문자를 입력받아 \n",
        "- 'A'이면 “Excellent”, \n",
        "- 'B'이면 “Good”, \n",
        "- 'C'이면 “Usually”, \n",
        "- 'D'이면 “Effort”, \n",
        "- 'F'이면 “Failure”, \n",
        "- 그 외 문자이면 “error” 라고 출력하는 프로그램을 작성하시오.\n",
        "- 입력 예: B\n",
        "- 출력 예: Good"
      ]
    },
    {
      "cell_type": "code",
      "metadata": {
        "id": "7AV2UjqjSwjA",
        "colab": {
          "base_uri": "https://localhost:8080/",
          "height": 257
        },
        "outputId": "ab4e74a1-73d2-4b1a-9612-e35bd02b4122"
      },
      "source": [
        "K=input('영문 대문자를 입력하시오')\n",
        "\n",
        "if K is A:\n",
        "  print(\"Excellent\")\n",
        "elif K is B:\n",
        "  print('Good')\n",
        "elif K is C:\n",
        "  print('Usually')\n",
        "elif K is D:\n",
        "  print('Effort')\n",
        "elif K is F:\n",
        "  print('failure')"
      ],
      "execution_count": 14,
      "outputs": [
        {
          "output_type": "stream",
          "text": [
            "영문 대문자를 입력하시오C\n"
          ],
          "name": "stdout"
        },
        {
          "output_type": "error",
          "ename": "NameError",
          "evalue": "ignored",
          "traceback": [
            "\u001b[0;31m---------------------------------------------------------------------------\u001b[0m",
            "\u001b[0;31mNameError\u001b[0m                                 Traceback (most recent call last)",
            "\u001b[0;32m<ipython-input-14-f2726a8df797>\u001b[0m in \u001b[0;36m<module>\u001b[0;34m()\u001b[0m\n\u001b[1;32m      1\u001b[0m \u001b[0mK\u001b[0m\u001b[0;34m=\u001b[0m\u001b[0minput\u001b[0m\u001b[0;34m(\u001b[0m\u001b[0;34m'영문 대문자를 입력하시오'\u001b[0m\u001b[0;34m)\u001b[0m\u001b[0;34m\u001b[0m\u001b[0;34m\u001b[0m\u001b[0m\n\u001b[1;32m      2\u001b[0m \u001b[0;34m\u001b[0m\u001b[0m\n\u001b[0;32m----> 3\u001b[0;31m \u001b[0;32mif\u001b[0m \u001b[0mK\u001b[0m \u001b[0;32mis\u001b[0m \u001b[0mA\u001b[0m\u001b[0;34m:\u001b[0m\u001b[0;34m\u001b[0m\u001b[0;34m\u001b[0m\u001b[0m\n\u001b[0m\u001b[1;32m      4\u001b[0m   \u001b[0mprint\u001b[0m\u001b[0;34m(\u001b[0m\u001b[0;34m\"Excellent\"\u001b[0m\u001b[0;34m)\u001b[0m\u001b[0;34m\u001b[0m\u001b[0;34m\u001b[0m\u001b[0m\n\u001b[1;32m      5\u001b[0m \u001b[0;32melif\u001b[0m \u001b[0mK\u001b[0m \u001b[0;32mis\u001b[0m \u001b[0mB\u001b[0m\u001b[0;34m:\u001b[0m\u001b[0;34m\u001b[0m\u001b[0;34m\u001b[0m\u001b[0m\n",
            "\u001b[0;31mNameError\u001b[0m: name 'A' is not defined"
          ]
        }
      ]
    },
    {
      "cell_type": "code",
      "metadata": {
        "id": "diDCejnaSwjA"
      },
      "source": [
        ""
      ],
      "execution_count": null,
      "outputs": []
    },
    {
      "cell_type": "markdown",
      "metadata": {
        "id": "y1w-0wRdSwjA"
      },
      "source": [
        "# 문제 7.\n",
        "- 3개의 정수를 입력받아 조건문을 이용하여 입력받은 수들 중 최소값을 출력하는 프로그램을 작성하시오.\n",
        "- 입력 예: 18 -5 10\n",
        "- 출력 예: -5"
      ]
    },
    {
      "cell_type": "code",
      "metadata": {
        "id": "eOwzPo1XSwjA",
        "colab": {
          "base_uri": "https://localhost:8080/"
        },
        "outputId": "dd0f1623-14bf-4849-d124-d81a552ab760"
      },
      "source": [
        "a=input('문자열을 입력하시오')\n",
        "A=int(a)\n",
        "b=input('문자열을 입력하시오')\n",
        "B=int(b)\n",
        "c=input('문자열을 입력하시오')\n",
        "C=int(c)\n",
        "if A<B and A<C:\n",
        "  print(a)\n",
        "elif B<C and B<A:\n",
        "  print(b)\n",
        "elif C<A and C<B:\n",
        "  print(c)"
      ],
      "execution_count": null,
      "outputs": [
        {
          "output_type": "stream",
          "text": [
            "문자열을 입력하시오5\n",
            "문자열을 입력하시오18\n",
            "문자열을 입력하시오10\n",
            "5\n"
          ],
          "name": "stdout"
        }
      ]
    },
    {
      "cell_type": "code",
      "metadata": {
        "id": "8p_HW1hgSwjB"
      },
      "source": [
        ""
      ],
      "execution_count": null,
      "outputs": []
    },
    {
      "cell_type": "markdown",
      "metadata": {
        "id": "mpaH2sgrSwjB"
      },
      "source": [
        "# 문제 8.\n",
        "- 년도를 입력받아 윤년(leap year)인지 평년(common year)인지 판단하는 프로그램을 작성하시오.\n",
        "- 400으로 나누어떨어지면 윤년이다. 또는 4로 나누어떨어지고 100으로 나누어떨어지지 않으면 윤년이다. 나머지는 모두 평년이다.\n",
        "- 입력 예: 2008\n",
        "- 출력 예: leap year"
      ]
    },
    {
      "cell_type": "code",
      "metadata": {
        "id": "P9_Td6CfSwjC",
        "colab": {
          "base_uri": "https://localhost:8080/"
        },
        "outputId": "fb7dc9d7-2333-4bb9-ff8e-d316b63fea63"
      },
      "source": [
        "year=input('년도를 입력하시오')\n",
        "Year=int(year)\n",
        "if Year%400 == 0:\n",
        "  print('윤년')\n",
        "else:\n",
        "  print('평년')"
      ],
      "execution_count": null,
      "outputs": [
        {
          "output_type": "stream",
          "text": [
            "년도를 입력하시오2008\n",
            "평년\n"
          ],
          "name": "stdout"
        }
      ]
    },
    {
      "cell_type": "code",
      "metadata": {
        "id": "q6eTPqZmSwjC"
      },
      "source": [
        ""
      ],
      "execution_count": null,
      "outputs": []
    },
    {
      "cell_type": "markdown",
      "metadata": {
        "id": "U3XkVYRbSwjC"
      },
      "source": [
        "# 문제 9. \n",
        "- 1~12사이의 정수를 입력받아 평년의 경우 입력받은 월을 입력받아 평년의 경우 해당 월의 날수를 출력하는 프로그램을 작성하시오.\n",
        "- 평년의 경우 1월부터 12월까지 일수는 각각 31, 28, 31, 30, 31, 30, 31, 31, 30, 31, 30, 31일이다.\n",
        "- 입력 예: 2\n",
        "- 출력 예: 28"
      ]
    },
    {
      "cell_type": "code",
      "metadata": {
        "id": "mPbEuZlASwjC"
      },
      "source": [
        ""
      ],
      "execution_count": null,
      "outputs": []
    },
    {
      "cell_type": "code",
      "metadata": {
        "id": "kkRuLE99SwjC"
      },
      "source": [
        ""
      ],
      "execution_count": null,
      "outputs": []
    },
    {
      "cell_type": "markdown",
      "metadata": {
        "id": "7nsuIsNGSwjD"
      },
      "source": [
        "# 문제 10.\n",
        "- 공백을 포함한 문자열을 입력받아 각 단어로 분리하여 문자열 배열에 저장한 후 입력순서의 반대 순서로 출력하는 프로그램을 작성하시오. 문자열의 길이는 100자 이하이다.\n",
        "- 입력 예: C++ Programing jjang!!\n",
        "- 출력 예:\n",
        "    * jjang!!\n",
        "    * Programing\n",
        "    * C++"
      ]
    },
    {
      "cell_type": "code",
      "metadata": {
        "id": "9ttTE8uASwjD"
      },
      "source": [
        ""
      ],
      "execution_count": null,
      "outputs": []
    },
    {
      "cell_type": "code",
      "metadata": {
        "id": "iCCzssCkSwjD"
      },
      "source": [
        ""
      ],
      "execution_count": null,
      "outputs": []
    },
    {
      "cell_type": "code",
      "metadata": {
        "id": "Uy5H_GHMSwjF"
      },
      "source": [
        ""
      ],
      "execution_count": null,
      "outputs": []
    }
  ]
}