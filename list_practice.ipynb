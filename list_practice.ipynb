{
  "nbformat": 4,
  "nbformat_minor": 0,
  "metadata": {
    "kernelspec": {
      "display_name": "Python 3",
      "language": "python",
      "name": "python3"
    },
    "language_info": {
      "codemirror_mode": {
        "name": "ipython",
        "version": 3
      },
      "file_extension": ".py",
      "mimetype": "text/x-python",
      "name": "python",
      "nbconvert_exporter": "python",
      "pygments_lexer": "ipython3",
      "version": "3.6.6"
    },
    "colab": {
      "name": "list_practice.ipynb",
      "provenance": [],
      "include_colab_link": true
    }
  },
  "cells": [
    {
      "cell_type": "markdown",
      "metadata": {
        "id": "view-in-github",
        "colab_type": "text"
      },
      "source": [
        "<a href=\"https://colab.research.google.com/github/kirnrnrn/kim/blob/main/list_practice.ipynb\" target=\"_parent\"><img src=\"https://colab.research.google.com/assets/colab-badge.svg\" alt=\"Open In Colab\"/></a>"
      ]
    },
    {
      "cell_type": "markdown",
      "metadata": {
        "id": "1wpPNEYSy-Tu"
      },
      "source": [
        "# 문제 1.\n",
        "- 문자 10개를 저장할 수 있는 리스트를 만들고 10개의 문자를 입력받아 입력받은 문자를 이어서 출력하는 프로그램을 작성하시오.\n",
        "- 입력 예: A B C D E F G H I J\n",
        "- 출력 예: ABCDEFGHIJ"
      ]
    },
    {
      "cell_type": "code",
      "metadata": {
        "id": "HfryDyz2y-T4",
        "colab": {
          "base_uri": "https://localhost:8080/"
        },
        "outputId": "dc3ca9be-9eb9-4dc4-9c9d-1526272557af"
      },
      "source": [
        "list=[]\n",
        "i=0\n",
        "for i in range(10):\n",
        "  i=input('알파벳을 입력하시오')\n",
        "  list.append(i)\n",
        "print(''.join(list))"
      ],
      "execution_count": 4,
      "outputs": [
        {
          "output_type": "stream",
          "text": [
            "알파벳을 입력하시오A\n",
            "알파벳을 입력하시오B\n",
            "알파벳을 입력하시오C\n",
            "알파벳을 입력하시오D\n",
            "알파벳을 입력하시오E\n",
            "알파벳을 입력하시오F\n",
            "알파벳을 입력하시오G\n",
            "알파벳을 입력하시오H\n",
            "알파벳을 입력하시오I\n",
            "알파벳을 입력하시오J\n",
            "ABCDEFGHIJ\n"
          ],
          "name": "stdout"
        }
      ]
    },
    {
      "cell_type": "code",
      "metadata": {
        "id": "PzuI1Ev1y-T5"
      },
      "source": [
        ""
      ],
      "execution_count": null,
      "outputs": []
    },
    {
      "cell_type": "markdown",
      "metadata": {
        "id": "Hib4sNRhy-T5"
      },
      "source": [
        "# 문제 2.\n",
        "- 10개의 문자를 입력받아서 첫 번째 네 번째 일곱 번째 입력받은 문자를 차례로 출력하는 프로그램을 작성하시오.\n",
        "- 입력 예: A B C D E F G H I J\n",
        "- 출력 예: A D G"
      ]
    },
    {
      "cell_type": "code",
      "metadata": {
        "id": "xeTVOHUty-T5",
        "colab": {
          "base_uri": "https://localhost:8080/"
        },
        "outputId": "b8f2f14d-63c3-4a7d-8af6-a1df5df67a3c"
      },
      "source": [
        "list=[]\n",
        "i=0\n",
        "for i in range(10):\n",
        "  i=input('알파벳을 입력하시오:')\n",
        "  list.append(i)\n",
        "  print(list)\n",
        "print(list[0],list[3],list[6])"
      ],
      "execution_count": 6,
      "outputs": [
        {
          "output_type": "stream",
          "text": [
            "알파벳을 입력하시오:A\n",
            "['A']\n",
            "알파벳을 입력하시오:B\n",
            "['A', 'B']\n",
            "알파벳을 입력하시오:C\n",
            "['A', 'B', 'C']\n",
            "알파벳을 입력하시오:D\n",
            "['A', 'B', 'C', 'D']\n",
            "알파벳을 입력하시오:E\n",
            "['A', 'B', 'C', 'D', 'E']\n",
            "알파벳을 입력하시오:F\n",
            "['A', 'B', 'C', 'D', 'E', 'F']\n",
            "알파벳을 입력하시오:G\n",
            "['A', 'B', 'C', 'D', 'E', 'F', 'G']\n",
            "알파벳을 입력하시오:H\n",
            "['A', 'B', 'C', 'D', 'E', 'F', 'G', 'H']\n",
            "알파벳을 입력하시오:I\n",
            "['A', 'B', 'C', 'D', 'E', 'F', 'G', 'H', 'I']\n",
            "알파벳을 입력하시오:J\n",
            "['A', 'B', 'C', 'D', 'E', 'F', 'G', 'H', 'I', 'J']\n",
            "A D G\n"
          ],
          "name": "stdout"
        }
      ]
    },
    {
      "cell_type": "code",
      "metadata": {
        "id": "iYgnNyE0y-T6"
      },
      "source": [
        ""
      ],
      "execution_count": null,
      "outputs": []
    },
    {
      "cell_type": "markdown",
      "metadata": {
        "id": "5X6iMat3y-T6"
      },
      "source": [
        "# 문제 3.\n",
        "- 빈 리스트을 선언하고 정수를 차례로 입력받다가 0 이 입력되면 0 을 제외하고 그 때까지 입력된 정수를 가장 나중에 입력된 정수부터 차례대로 출력하는 프로그램을 작성하시오.\n",
        "- 입력 예: \n",
        "    * 3 \n",
        "    * 5\n",
        "    * 10 \n",
        "    * 55 \n",
        "    * 0\n",
        "- 출력 예: 55 10 5 3"
      ]
    },
    {
      "cell_type": "code",
      "metadata": {
        "id": "mSSG4ViDy-T6",
        "colab": {
          "base_uri": "https://localhost:8080/"
        },
        "outputId": "44ef76e4-e22e-4488-f049-248d3bc32c05"
      },
      "source": [
        "list=[]\n",
        "i=1\n",
        "while i>0:\n",
        "  i=int(input('정수를 입력하시오:'))\n",
        "  list.append(i)\n",
        "  list.reverse()\n",
        "  if i == 0:\n",
        "    break\n",
        "print(list)"
      ],
      "execution_count": 15,
      "outputs": [
        {
          "output_type": "stream",
          "text": [
            "정수를 입력하시오:3\n",
            "정수를 입력하시오:5\n",
            "정수를 입력하시오:10\n",
            "정수를 입력하시오:55\n",
            "정수를 입력하시오:0\n",
            "[0, 10, 3, 5, 55]\n"
          ],
          "name": "stdout"
        }
      ]
    },
    {
      "cell_type": "code",
      "metadata": {
        "id": "lHPr9eiLy-T6"
      },
      "source": [
        ""
      ],
      "execution_count": null,
      "outputs": []
    },
    {
      "cell_type": "markdown",
      "metadata": {
        "id": "8ozcCzB_y-T7"
      },
      "source": [
        "# 문제 4.\n",
        "- 1반부터 6반까지의 평균점수를 저장한 후 두 반의 반 번호를 입력받아 두 반 평균점수의 합을 출력하는 프로그램을 작성하시오.\n",
        "- 반별 평균점수는 초기값으로 1반부터 차례로 85.6 79.5 83.1 80.0 78.2 75.0으로 초기화하고, \n",
        "- 출력은 소수 두 번째 자리에서 반올림하여 소수 첫째자리까지 한다.\n",
        "- 입력 예: 1 3 (1반 3반을 의미)\n",
        "- 출력 예: 168.7"
      ]
    },
    {
      "cell_type": "code",
      "metadata": {
        "id": "gs0QTuvky-T7",
        "colab": {
          "base_uri": "https://localhost:8080/"
        },
        "outputId": "0d0ff36a-99dd-4db9-d7e1-f6cc4981e593"
      },
      "source": [
        "list=[85.6 , 79.5 , 83.1 , 80.0 , 78.2 , 75.0]\n",
        "a=input('반을 입력하시오:')\n",
        "b=input('반을 입력하시오:')\n",
        "list[0] = 반1\n",
        "list[1] = 반2\n",
        "list[2] = 반3\n",
        "list[3] = 반4\n",
        "list[4] = 반5\n",
        "list[5] = 반6\n",
        "\n",
        "print(a+b)\n",
        "\n",
        "\n"
      ],
      "execution_count": 19,
      "outputs": [
        {
          "output_type": "stream",
          "text": [
            "반을 입력하시오:반2\n",
            "반을 입력하시오:반3\n",
            "반2반3\n"
          ],
          "name": "stdout"
        }
      ]
    },
    {
      "cell_type": "code",
      "metadata": {
        "id": "ljeHwH0Jy-T7"
      },
      "source": [
        ""
      ],
      "execution_count": null,
      "outputs": []
    },
    {
      "cell_type": "markdown",
      "metadata": {
        "id": "sxTOTGqwy-T7"
      },
      "source": [
        "# 문제 5.\n",
        "- 10개의 정수를 입력받아 그 중 가장 작은 수를 출력하는 프로그램을 작성하시오.\n",
        "- 입력 예: 5 10 8 55 6 31 12 24 61 2\n",
        "- 출력 예: 2"
      ]
    },
    {
      "cell_type": "code",
      "metadata": {
        "id": "Jr8hszFRy-T8",
        "colab": {
          "base_uri": "https://localhost:8080/"
        },
        "outputId": "d716de83-251f-4b19-baf6-7c91e819d6d5"
      },
      "source": [
        "list=[]\n",
        "\n",
        "for i in range(10):\n",
        "  i=int(input('정수를 입력하시오:'))\n",
        "  list.append(i)\n",
        "print(min(list))"
      ],
      "execution_count": 21,
      "outputs": [
        {
          "output_type": "stream",
          "text": [
            "정수를 입력하시오:5\n",
            "정수를 입력하시오:10\n",
            "정수를 입력하시오:8\n",
            "정수를 입력하시오:55\n",
            "정수를 입력하시오:6\n",
            "정수를 입력하시오:31\n",
            "정수를 입력하시오:12\n",
            "정수를 입력하시오:24\n",
            "정수를 입력하시오:61\n",
            "정수를 입력하시오:2\n",
            "2\n"
          ],
          "name": "stdout"
        }
      ]
    },
    {
      "cell_type": "code",
      "metadata": {
        "id": "JtA2gUUAy-T8"
      },
      "source": [
        ""
      ],
      "execution_count": null,
      "outputs": []
    },
    {
      "cell_type": "markdown",
      "metadata": {
        "id": "t6408HTPy-T8"
      },
      "source": [
        "# 문제 6.\n",
        "- 10개의 정수를 입력받아 100 미만의 수 중 가장 큰 수와 100 이상의 수 중 가장 작은 수를 출력하는 프로그램을 작성하시오.\n",
        "- 입력 예: 88 123 659 15 443 1 99 313 105 48\n",
        "- 출력 예: 99 105"
      ]
    },
    {
      "cell_type": "code",
      "metadata": {
        "id": "6S1l0Ryjy-T8"
      },
      "source": [
        "# loop2 문제4와 동일"
      ],
      "execution_count": null,
      "outputs": []
    },
    {
      "cell_type": "code",
      "metadata": {
        "id": "osr-p5eLy-T8"
      },
      "source": [
        ""
      ],
      "execution_count": null,
      "outputs": []
    },
    {
      "cell_type": "markdown",
      "metadata": {
        "id": "YR-wuuO-y-T8"
      },
      "source": [
        "# 문제 7.\n",
        "- 10개의 정수를 입력받아 리스트에 저장한 후 짝수 번째 입력된 값의 합과 홀수 번째 입력된 값의 평균을 출력하는 프로그램을 작성하시오.\n",
        "- 평균은 반올림하여 소수첫째자리까지 출력한다.\n",
        "- 입력 예: 95 100 88 65 76 89 58 93 77 99\n",
        "- 출력 예: \n",
        "    * sum : 446\n",
        "    * avg : 78.8"
      ]
    },
    {
      "cell_type": "code",
      "metadata": {
        "id": "8_mRW1_dy-T9",
        "colab": {
          "base_uri": "https://localhost:8080/"
        },
        "outputId": "2408781f-555c-457c-9b49-1ff336df63d5"
      },
      "source": [
        "list=[]\n",
        "for i in range(10):\n",
        "  i=int(input('정수를 입력하시오:'))\n",
        "  list.append(i)\n",
        "a=list[1]+list[3]+list[5]+list[7]+list[9]\n",
        "b=list[0]+list[2]+list[4]+list[6]+list[8]\n",
        "avg = b/5\n",
        "print('sum:', a)\n",
        "print('avg', avg)"
      ],
      "execution_count": 25,
      "outputs": [
        {
          "output_type": "stream",
          "text": [
            "정수를 입력하시오:95\n",
            "정수를 입력하시오:100\n",
            "정수를 입력하시오:88\n",
            "정수를 입력하시오:65\n",
            "정수를 입력하시오:76\n",
            "정수를 입력하시오:89\n",
            "정수를 입력하시오:58\n",
            "정수를 입력하시오:93\n",
            "정수를 입력하시오:77\n",
            "정수를 입력하시오:99\n",
            "sum: 446\n",
            "avg 78.8\n"
          ],
          "name": "stdout"
        }
      ]
    },
    {
      "cell_type": "code",
      "metadata": {
        "id": "KybuuXqly-T9"
      },
      "source": [
        ""
      ],
      "execution_count": null,
      "outputs": []
    },
    {
      "cell_type": "markdown",
      "metadata": {
        "id": "sYI9NSkPy-T9"
      },
      "source": [
        "# 문제 8.\n",
        "- 10개의 정수를 입력받아 리스트에 저장한 후 내림차순으로 정렬하여 출력하시오.\n",
        "- 입력 예: 95 100 88 65 76 89 58 93 77 99\n",
        "- 출력 예: 100 99 95 93 89 88 77 76 65 58"
      ]
    },
    {
      "cell_type": "code",
      "metadata": {
        "id": "4--CfOUNy-T9",
        "colab": {
          "base_uri": "https://localhost:8080/"
        },
        "outputId": "bd37d1cb-4ddb-4c68-fe1d-67567a1a7a57"
      },
      "source": [
        "list=[]\n",
        "for i in range(10):\n",
        "  i=int(input('정수를 입력하시오:'))\n",
        "  list.sort(reverse=True)\n",
        "print(list)"
      ],
      "execution_count": 26,
      "outputs": [
        {
          "output_type": "stream",
          "text": [
            "정수를 입력하시오:95\n",
            "정수를 입력하시오:100\n",
            "정수를 입력하시오:88\n",
            "정수를 입력하시오:65\n",
            "정수를 입력하시오:76\n",
            "정수를 입력하시오:89\n",
            "정수를 입력하시오:58\n",
            "정수를 입력하시오:93\n",
            "정수를 입력하시오:77\n",
            "정수를 입력하시오:99\n",
            "[]\n"
          ],
          "name": "stdout"
        }
      ]
    },
    {
      "cell_type": "code",
      "metadata": {
        "id": "pYpzYwtsy-T9"
      },
      "source": [
        ""
      ],
      "execution_count": null,
      "outputs": []
    }
  ]
}