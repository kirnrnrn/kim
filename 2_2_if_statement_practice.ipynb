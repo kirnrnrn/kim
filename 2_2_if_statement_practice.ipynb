{
  "nbformat": 4,
  "nbformat_minor": 0,
  "metadata": {
    "kernelspec": {
      "display_name": "Python 3",
      "language": "python",
      "name": "python3"
    },
    "language_info": {
      "codemirror_mode": {
        "name": "ipython",
        "version": 3
      },
      "file_extension": ".py",
      "mimetype": "text/x-python",
      "name": "python",
      "nbconvert_exporter": "python",
      "pygments_lexer": "ipython3",
      "version": "3.6.6"
    },
    "colab": {
      "name": "2.2 if_statement_practice.ipynb",
      "provenance": [],
      "include_colab_link": true
    }
  },
  "cells": [
    {
      "cell_type": "markdown",
      "metadata": {
        "id": "view-in-github",
        "colab_type": "text"
      },
      "source": [
        "<a href=\"https://colab.research.google.com/github/kirnrnrn/kim/blob/main/2_2_if_statement_practice.ipynb\" target=\"_parent\"><img src=\"https://colab.research.google.com/assets/colab-badge.svg\" alt=\"Open In Colab\"/></a>"
      ]
    },
    {
      "cell_type": "markdown",
      "metadata": {
        "id": "_MDekTQTxhg0"
      },
      "source": [
        "# 문제 1.\n",
        "- \"FizzBuzz\"문제 \n",
        " - 1에서 100까지의 숫자를 출력하되, \n",
        " - 만약 해당 숫자가 '3'으로 나누어지면 숫자 대신에 \"Fizz\"를 출력하고, \n",
        " - 만약 해당 숫자가 '5'로 나누어지면 숫자 대신에 \"Buzz\"를 출력하며, \n",
        " - 만약 해당 숫자가 '3'과 '5'로 모두 나누어지면 숫자 대신에 \"FizzBuzz\"를 출력\n",
        " - 입력 예1: 5\n",
        " - 출력 예1: \"Buzz\"\n",
        " - 입력 예2: 3\n",
        " - 출력 예2: \"Fizz\"\n",
        " - 입력 예3: 15\n",
        " - 출력 예3: \"FizzBuzz\" "
      ]
    },
    {
      "cell_type": "code",
      "metadata": {
        "colab": {
          "base_uri": "https://localhost:8080/",
          "height": 239
        },
        "id": "p_QWsirvxhg6",
        "outputId": "4f27b330-5f2b-4dc6-b1e1-0d9736817e89"
      },
      "source": [
        "for i in range(1.101):\n",
        "  if i%3 == 0:\n",
        "    print('Fizz')\n",
        "  elif i%5 == 0:\n",
        "    print('Buzz')\n",
        "  elif i%3 == 0 and i%5 == 0:\n",
        "    print('FizzBuzz')"
      ],
      "execution_count": null,
      "outputs": [
        {
          "output_type": "error",
          "ename": "TypeError",
          "evalue": "ignored",
          "traceback": [
            "\u001b[0;31m---------------------------------------------------------------------------\u001b[0m",
            "\u001b[0;31mTypeError\u001b[0m                                 Traceback (most recent call last)",
            "\u001b[0;32m<ipython-input-2-732955cb0ef3>\u001b[0m in \u001b[0;36m<module>\u001b[0;34m()\u001b[0m\n\u001b[0;32m----> 1\u001b[0;31m \u001b[0;32mfor\u001b[0m \u001b[0mi\u001b[0m \u001b[0;32min\u001b[0m \u001b[0mrange\u001b[0m\u001b[0;34m(\u001b[0m\u001b[0;36m1.101\u001b[0m\u001b[0;34m)\u001b[0m\u001b[0;34m:\u001b[0m\u001b[0;34m\u001b[0m\u001b[0;34m\u001b[0m\u001b[0m\n\u001b[0m\u001b[1;32m      2\u001b[0m   \u001b[0;32mif\u001b[0m \u001b[0mi\u001b[0m\u001b[0;34m%\u001b[0m\u001b[0;36m3\u001b[0m \u001b[0;34m==\u001b[0m \u001b[0;36m0\u001b[0m\u001b[0;34m:\u001b[0m\u001b[0;34m\u001b[0m\u001b[0;34m\u001b[0m\u001b[0m\n\u001b[1;32m      3\u001b[0m     \u001b[0mprint\u001b[0m\u001b[0;34m(\u001b[0m\u001b[0;34m'Fizz'\u001b[0m\u001b[0;34m)\u001b[0m\u001b[0;34m\u001b[0m\u001b[0;34m\u001b[0m\u001b[0m\n\u001b[1;32m      4\u001b[0m   \u001b[0;32melif\u001b[0m \u001b[0mi\u001b[0m\u001b[0;34m%\u001b[0m\u001b[0;36m5\u001b[0m \u001b[0;34m==\u001b[0m \u001b[0;36m0\u001b[0m\u001b[0;34m:\u001b[0m\u001b[0;34m\u001b[0m\u001b[0;34m\u001b[0m\u001b[0m\n\u001b[1;32m      5\u001b[0m     \u001b[0mprint\u001b[0m\u001b[0;34m(\u001b[0m\u001b[0;34m'Buzz'\u001b[0m\u001b[0;34m)\u001b[0m\u001b[0;34m\u001b[0m\u001b[0;34m\u001b[0m\u001b[0m\n",
            "\u001b[0;31mTypeError\u001b[0m: 'float' object cannot be interpreted as an integer"
          ]
        }
      ]
    },
    {
      "cell_type": "code",
      "metadata": {
        "id": "VMprQNPIxhg6"
      },
      "source": [
        ""
      ],
      "execution_count": null,
      "outputs": []
    },
    {
      "cell_type": "markdown",
      "metadata": {
        "id": "XjBzZYOzxhg7"
      },
      "source": [
        "# 문제 2.\n",
        "- 나이를 입력받아 나이에 따라 지하철 교통요금 출력하는 프로그램을 만드시오.\n",
        "- 8세 미만의 어린이의 지하철 교통요금은 450원이다.\n",
        "- 8세 이상 19세 이하의 청소년 지하철 교통요금은 720원이다.\n",
        "- 20세 이상의 성인 지하철 교통요금은 1250원이다\n",
        "- 입력 예1: 2\n",
        "- 출력 예1: \"450원입니다.\"\n",
        "- 입력 예2: 19\n",
        "- 출력 예2: \"720원입니다.\"\n",
        "- 입력 예3: 82\n",
        "- 출력 예3: \"1250원입니다.\""
      ]
    },
    {
      "cell_type": "code",
      "metadata": {
        "colab": {
          "base_uri": "https://localhost:8080/"
        },
        "id": "RaeIO7_Wxhg7",
        "outputId": "7380b539-8e55-41da-88f5-fa1249b3fda4"
      },
      "source": [
        "age= input('나이를 입려하시오')\n",
        "Age= int(age)\n",
        "if Age<8:\n",
        "  print('450원 입니다')\n",
        "elif Age>=8 and Age<=19:\n",
        "  print('720원입니다')\n",
        "elif Age>=20:\n",
        "  print('1250원입니다')"
      ],
      "execution_count": null,
      "outputs": [
        {
          "output_type": "stream",
          "text": [
            "나이를 입려하시오82\n",
            "1250원입니다\n"
          ],
          "name": "stdout"
        }
      ]
    },
    {
      "cell_type": "code",
      "metadata": {
        "id": "whmTRBZHxhg7"
      },
      "source": [
        ""
      ],
      "execution_count": null,
      "outputs": []
    },
    {
      "cell_type": "markdown",
      "metadata": {
        "id": "iBE64-P2xhg8"
      },
      "source": [
        "# 문제3.\n",
        "- 초를 입력 받아서 시간과 분으로 변환하는 프로그램을 작성하시오.\n",
        "- 입력 예: 3598\n",
        "- 출력 예: 59분 58초"
      ]
    },
    {
      "cell_type": "code",
      "metadata": {
        "id": "BjbHYGoYxhg8"
      },
      "source": [
        "sec=input('초를 입력하시오')\n",
        "Sec= int(time)\n",
        "min == Sec/60\n",
        "hour\n"
      ],
      "execution_count": null,
      "outputs": []
    },
    {
      "cell_type": "code",
      "metadata": {
        "id": "6kpJ2z4Sxhg8"
      },
      "source": [
        ""
      ],
      "execution_count": null,
      "outputs": []
    },
    {
      "cell_type": "markdown",
      "metadata": {
        "id": "rJNFJLgaxhg9"
      },
      "source": [
        "# 문제 4.\n",
        "- 섭씨를 입력받아서 화씨로 변환하는 프로그램을 작성하시오.\n",
        "- 수식:  F(화씨) = 9.0 / 5.0 * C(섭씨)+ 32\n",
        "- 입력 예: 5\n",
        "- 출력 예: 41.0"
      ]
    },
    {
      "cell_type": "code",
      "metadata": {
        "colab": {
          "base_uri": "https://localhost:8080/"
        },
        "id": "rYpzDD7Sxhg9",
        "outputId": "e5ac3054-6729-4525-f668-ac3716d26696"
      },
      "source": [
        "C=input('섭씨를 입력하시오')\n",
        "c=int(C)\n",
        "F= 9.0 / 5.0 * c + 32\n",
        "print(F)"
      ],
      "execution_count": null,
      "outputs": [
        {
          "output_type": "stream",
          "text": [
            "섭씨를 입력하시오5\n",
            "41.0\n"
          ],
          "name": "stdout"
        }
      ]
    },
    {
      "cell_type": "code",
      "metadata": {
        "id": "JseWqUMCxhg9"
      },
      "source": [
        ""
      ],
      "execution_count": null,
      "outputs": []
    },
    {
      "cell_type": "markdown",
      "metadata": {
        "id": "dI0vE3m-xhg-"
      },
      "source": [
        "# 문제 5.\n",
        "- 화씨를 입력받아서 섭씨로 변환하는 프로그램\n",
        "- 수식: C = (5 * F - 160) / 9.0\n",
        "- 입력 예: 5\n",
        "- 출력 예: -15.0"
      ]
    },
    {
      "cell_type": "code",
      "metadata": {
        "colab": {
          "base_uri": "https://localhost:8080/"
        },
        "id": "GOGN-Pw1xhg-",
        "outputId": "ffc5c0a7-fb2f-4c0c-bead-f3c10c74ddad"
      },
      "source": [
        "F= input('화씨를 입력하시오')\n",
        "f=int(F)\n",
        "C = (5 * f - 160) / 9.0\n",
        "print(C)"
      ],
      "execution_count": null,
      "outputs": [
        {
          "output_type": "stream",
          "text": [
            "화씨를 입력하시오5\n",
            "-15.0\n"
          ],
          "name": "stdout"
        }
      ]
    },
    {
      "cell_type": "code",
      "metadata": {
        "id": "dXT-zDp6xhg-"
      },
      "source": [
        ""
      ],
      "execution_count": null,
      "outputs": []
    },
    {
      "cell_type": "markdown",
      "metadata": {
        "id": "6NbqKWUexhg-"
      },
      "source": [
        "# 문제 6.\n",
        "- 영어 알파벳 문자 하나를 입력받아 대소문자를 구분하는 코드를 작성하십시오.\n",
        "- 입력 예1: 'A'\n",
        "- 출력 예1: 대문자입니다.\n",
        "- 입력 예2: 'h'\n",
        "- 출력 예2: 소문자입니다.\n"
      ]
    },
    {
      "cell_type": "code",
      "metadata": {
        "colab": {
          "base_uri": "https://localhost:8080/"
        },
        "id": "CaWw8VUtxhg_",
        "outputId": "1372eae5-06bb-451d-d50c-da9e6116e5ee"
      },
      "source": [
        "list=['Q','W','E','R','T','Y','U','I','O','P','A','S','D','F','G','H','J','K','L','Z','X','C','V','B','N','M']\n",
        "world= input('알파벳을 입력하시오')\n",
        "if world in list:\n",
        "    print('대문자입니다.')\n",
        "else:\n",
        "    print('소문자입니다.')"
      ],
      "execution_count": null,
      "outputs": [
        {
          "output_type": "stream",
          "text": [
            "알파벳을 입력하시오a\n",
            "소문자입니다.\n"
          ],
          "name": "stdout"
        }
      ]
    },
    {
      "cell_type": "code",
      "metadata": {
        "id": "mDxce8Glxhg_"
      },
      "source": [
        ""
      ],
      "execution_count": null,
      "outputs": []
    },
    {
      "cell_type": "markdown",
      "metadata": {
        "id": "8GKbYZonxhg_"
      },
      "source": [
        "# 문제 7.\n",
        "- 가상의 두 사람(A, B)이 가위 바위 보 중 하나를 내서 승패를 가르는 가위 바위 보 게임을 작성하십시오.\n",
        "- 이 때 [\"가위\", \"바위\", \"보\"] 리스트를 활용합니다.\n",
        "- 입력 예: \"가위\" \"바위\"\n",
        "- 출력 예: \"B가 이겼습니다.\""
      ]
    },
    {
      "cell_type": "code",
      "metadata": {
        "id": "KDmGqSXPxhg_"
      },
      "source": [
        "list=[\"가위\",\"바위\",\"보\"]\n",
        "a=input('입력하시오')\n",
        "b=input('입력하시오')\n",
        "#모르겠습니다...ㅎ\n"
      ],
      "execution_count": null,
      "outputs": []
    },
    {
      "cell_type": "code",
      "metadata": {
        "id": "q0jJXvlzxhg_"
      },
      "source": [
        ""
      ],
      "execution_count": null,
      "outputs": []
    },
    {
      "cell_type": "markdown",
      "metadata": {
        "id": "Eep39UO1xhhA"
      },
      "source": [
        "# 문제 8.\n",
        "- 다음의 결과와 같이 입력된 문자가 대문자일 경우 소문자로, 소문자일 경우 대문자로 변경하고,\n",
        "- 알파벳이 아닐 경우엔 그냥 출력하는 코드를 작성하십시오.\n",
        "- 입력 예1: A\n",
        "- 출력 예1: a\n",
        "- 입력 예2: 가나다\n",
        "- 출력 예2: 가나다\n"
      ]
    },
    {
      "cell_type": "code",
      "metadata": {
        "id": "MzM2XAfqxhhA",
        "colab": {
          "base_uri": "https://localhost:8080/"
        },
        "outputId": "e758fda3-4225-4e5e-8cd7-8df77a16ffdb"
      },
      "source": [
        "word=input(\"알파벳을 입력하시오\")\n",
        "list1=['Q','W','E','R','T','Y','U','I','O','P','A','S','D','F','G','H','J','K','L','Z','X','C','V','B','N','M']\n",
        "list2=['q','w','e','r','t','y','u','i','o','p','a','s','d','f','g','h','j','k','l','z','x','c','v','b','n','m']\n",
        "if word in list1:\n",
        "  print(list2)\n",
        "elif word in list2:\n",
        "  print(list1)\n",
        "else:\n",
        "  print(word)"
      ],
      "execution_count": 3,
      "outputs": [
        {
          "output_type": "stream",
          "text": [
            "알파벳을 입력하시오a\n",
            "['Q', 'W', 'E', 'R', 'T', 'Y', 'U', 'I', 'O', 'P', 'A', 'S', 'D', 'F', 'G', 'H', 'J', 'K', 'L', 'Z', 'X', 'C', 'V', 'B', 'N', 'M']\n"
          ],
          "name": "stdout"
        }
      ]
    },
    {
      "cell_type": "code",
      "metadata": {
        "id": "s1ZoKhgSxhhA"
      },
      "source": [
        ""
      ],
      "execution_count": null,
      "outputs": []
    },
    {
      "cell_type": "code",
      "metadata": {
        "id": "E-Uk-GUHxhhA"
      },
      "source": [
        ""
      ],
      "execution_count": null,
      "outputs": []
    }
  ]
}